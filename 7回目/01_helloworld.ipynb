{
 "cells": [
  {
   "cell_type": "markdown",
   "metadata": {},
   "source": [
    "# Shift + Enterで実行できます。"
   ]
  },
  {
   "cell_type": "code",
   "execution_count": null,
   "metadata": {},
   "outputs": [],
   "source": []
  },
  {
   "cell_type": "markdown",
   "metadata": {},
   "source": [
    "# 0. Hello World"
   ]
  },
  {
   "cell_type": "code",
   "execution_count": null,
   "metadata": {},
   "outputs": [],
   "source": [
    "print(\"Hello World\") #Hello Worldと出力。Rと同じです！"
   ]
  },
  {
   "cell_type": "markdown",
   "metadata": {},
   "source": [
    "# 1. 演算"
   ]
  },
  {
   "cell_type": "code",
   "execution_count": null,
   "metadata": {},
   "outputs": [],
   "source": [
    "print(1+2)"
   ]
  },
  {
   "cell_type": "code",
   "execution_count": null,
   "metadata": {},
   "outputs": [],
   "source": [
    "print(100-99)"
   ]
  },
  {
   "cell_type": "code",
   "execution_count": null,
   "metadata": {},
   "outputs": [],
   "source": [
    "# Google Colaboratory(Notebook形式)では、セルの一番最後行は、勝手に評価結果が出力されます。\n",
    "## Rみたいな使い方ができます！\n",
    "1+2"
   ]
  },
  {
   "cell_type": "code",
   "execution_count": null,
   "metadata": {},
   "outputs": [],
   "source": [
    "# 掛け算\n",
    "2*2*3.14"
   ]
  },
  {
   "cell_type": "code",
   "execution_count": null,
   "metadata": {},
   "outputs": [],
   "source": [
    "10/3"
   ]
  },
  {
   "cell_type": "markdown",
   "metadata": {},
   "source": [
    "## 1-2. 少し高度な計算"
   ]
  },
  {
   "cell_type": "code",
   "execution_count": null,
   "metadata": {},
   "outputs": [],
   "source": [
    "# 2の3乗\n",
    "2**3"
   ]
  },
  {
   "cell_type": "code",
   "execution_count": null,
   "metadata": {},
   "outputs": [],
   "source": [
    "# 10を3で割った余り\n",
    "10%3"
   ]
  },
  {
   "cell_type": "code",
   "execution_count": null,
   "metadata": {},
   "outputs": [],
   "source": [
    "# 10を3で割った商\n",
    "10//3"
   ]
  },
  {
   "cell_type": "code",
   "execution_count": null,
   "metadata": {},
   "outputs": [],
   "source": [
    "# 数式の優先順位\n",
    "(1+2)*3"
   ]
  },
  {
   "cell_type": "markdown",
   "metadata": {},
   "source": [
    "【練習】\n",
    "時間を取りますので、身の回りの数字を考えて、演算してみてください。"
   ]
  },
  {
   "cell_type": "code",
   "execution_count": null,
   "metadata": {},
   "outputs": [],
   "source": []
  },
  {
   "cell_type": "markdown",
   "metadata": {},
   "source": [
    "# 2. 変数"
   ]
  },
  {
   "cell_type": "code",
   "execution_count": null,
   "metadata": {},
   "outputs": [],
   "source": [
    "x = 1\n",
    "y = 3\n",
    "\n",
    "x + y"
   ]
  },
  {
   "cell_type": "code",
   "execution_count": null,
   "metadata": {},
   "outputs": [],
   "source": [
    "# やっていることは、以下と同じ\n",
    "# x + y\n",
    "1 + 3"
   ]
  },
  {
   "cell_type": "code",
   "execution_count": null,
   "metadata": {},
   "outputs": [],
   "source": [
    "# こういう場合にも使えます\n",
    "\n",
    "# 財布の中身(¥)\n",
    "wallet = 2500\n",
    "\n",
    "# りんご1つあたりの値段(¥)\n",
    "apple_price = 200\n",
    "# りんごの個数\n",
    "apple_count = 5\n",
    "\n",
    "# 財布からりんごを買った後の残金\n",
    "price_return = wallet - (apple_price * apple_count)\n",
    "print(price_return)"
   ]
  },
  {
   "cell_type": "code",
   "execution_count": null,
   "metadata": {},
   "outputs": [],
   "source": [
    "# printのつかいかた\n",
    "print(\"price_return: \")\n",
    "print(price_return)\n",
    "print(\"price_return: \", price_return)"
   ]
  },
  {
   "cell_type": "code",
   "execution_count": null,
   "metadata": {},
   "outputs": [],
   "source": [
    "# 裏技。\n",
    "print(f\"{price_return=}\")"
   ]
  },
  {
   "cell_type": "markdown",
   "metadata": {},
   "source": [
    "## 演習問題(1~2)\n",
    "\n",
    "以下の変数を定義した上で、「りんごを18個買う時、消費税の金額」を算出してください。\n",
    "- tax_rate = 0.1\n",
    "- apple_price = 180"
   ]
  },
  {
   "cell_type": "code",
   "execution_count": null,
   "metadata": {},
   "outputs": [],
   "source": [
    "tax_rate = 0.1\n",
    "apple_price = 180\n",
    "\n",
    "print(???)"
   ]
  },
  {
   "cell_type": "code",
   "execution_count": null,
   "metadata": {},
   "outputs": [],
   "source": []
  },
  {
   "cell_type": "code",
   "execution_count": null,
   "metadata": {},
   "outputs": [],
   "source": []
  },
  {
   "cell_type": "markdown",
   "metadata": {},
   "source": [
    "# 3. 文字列"
   ]
  },
  {
   "cell_type": "code",
   "execution_count": null,
   "metadata": {},
   "outputs": [],
   "source": [
    "example_int = 1\n",
    "example_str = \"1\""
   ]
  },
  {
   "cell_type": "code",
   "execution_count": null,
   "metadata": {},
   "outputs": [],
   "source": [
    "# 数字の1\n",
    "example_int"
   ]
  },
  {
   "cell_type": "code",
   "execution_count": null,
   "metadata": {},
   "outputs": [],
   "source": [
    "# 文字列の1\n",
    "example_str"
   ]
  },
  {
   "cell_type": "code",
   "execution_count": null,
   "metadata": {},
   "outputs": [],
   "source": [
    "# 数字の1 に 数値の1を足す\n",
    "example_int + 1"
   ]
  },
  {
   "cell_type": "code",
   "execution_count": null,
   "metadata": {},
   "outputs": [],
   "source": [
    "# 文字列の1 に 数値の1を足す\n",
    "example_str + 1"
   ]
  },
  {
   "cell_type": "code",
   "execution_count": null,
   "metadata": {},
   "outputs": [],
   "source": [
    "# 文字列の1 に 数値の1を足す\n",
    "example_str + \"1\""
   ]
  },
  {
   "cell_type": "markdown",
   "metadata": {},
   "source": [
    "### 上記は使い道としては、機会はあまり無い、、、が、よくエラーの原因となるので注意\n",
    "\n",
    "### 様々なものを自動化する上で、文字列操作はとても便利"
   ]
  },
  {
   "cell_type": "code",
   "execution_count": null,
   "metadata": {},
   "outputs": [],
   "source": [
    "# 文字の置き換え\n",
    "# \"文字列\".replace(\"前\", \"後\")\n",
    "\n",
    "before_text = \"こんにちわ\"\n",
    "after_text = before_text.replace(\"わ\", \"は\")\n",
    "\n",
    "print(\"Before: \", before_text)\n",
    "print(\"After: \", after_text)"
   ]
  },
  {
   "cell_type": "code",
   "execution_count": null,
   "metadata": {},
   "outputs": [],
   "source": []
  },
  {
   "cell_type": "code",
   "execution_count": null,
   "metadata": {},
   "outputs": [],
   "source": [
    "before_text = \"TwitterはSNSの一つです。\"\n",
    "after_text = before_text.replace(\"Twitter\", \"X\")\n",
    "\n",
    "print(\"Before: \", before_text)\n",
    "print(\"After: \", after_text)"
   ]
  },
  {
   "cell_type": "code",
   "execution_count": null,
   "metadata": {},
   "outputs": [],
   "source": []
  },
  {
   "cell_type": "code",
   "execution_count": null,
   "metadata": {},
   "outputs": [],
   "source": [
    "dna_seq = \"ATGGCCAATTAACGGTTAAACCCATGCCCAATTCCGGGAAAACCGTATATATGGGCCCGGG\""
   ]
  },
  {
   "cell_type": "code",
   "execution_count": null,
   "metadata": {},
   "outputs": [],
   "source": [
    "# \"文字列\".count()で、文字列中に含まれる特定の文字列の数をカウント。\n",
    "\n",
    "print(dna_seq.count(\"A\"))\n",
    "print(dna_seq.count(\"T\"))\n",
    "print(dna_seq.count(\"G\"))\n",
    "print(dna_seq.count(\"C\"))"
   ]
  },
  {
   "cell_type": "code",
   "execution_count": null,
   "metadata": {},
   "outputs": [],
   "source": [
    "# len()で、文字列の長さをカウント。\n",
    "print(len(dna_seq))"
   ]
  },
  {
   "cell_type": "code",
   "execution_count": null,
   "metadata": {},
   "outputs": [],
   "source": [
    "rna_seq = dna_seq.replace(\"T\", \"U\")\n",
    "print(rna_seq)"
   ]
  },
  {
   "cell_type": "code",
   "execution_count": null,
   "metadata": {},
   "outputs": [],
   "source": []
  },
  {
   "cell_type": "code",
   "execution_count": null,
   "metadata": {},
   "outputs": [],
   "source": [
    "before_text = \"こんにちわ。わたしの名前は山田太郎です。\"\n",
    "after_text = before_text.replace(\"わ\", \"は\")\n",
    "\n",
    "print(\"Before: \", before_text)\n",
    "print(\"After: \", after_text)"
   ]
  },
  {
   "cell_type": "code",
   "execution_count": null,
   "metadata": {},
   "outputs": [],
   "source": [
    "before_text = \"こんにちわ。わたしの名前は山田太郎です。\"\n",
    "after_text = before_text.replace(\"こんにちわ\", \"こんにちは\")\n",
    "\n",
    "print(\"Before: \", before_text)\n",
    "print(\"After: \", after_text)"
   ]
  },
  {
   "cell_type": "code",
   "execution_count": null,
   "metadata": {},
   "outputs": [],
   "source": []
  },
  {
   "cell_type": "markdown",
   "metadata": {},
   "source": [
    "# 4. リスト"
   ]
  },
  {
   "cell_type": "code",
   "execution_count": null,
   "metadata": {},
   "outputs": [],
   "source": [
    "# [ ]で囲み、 , で区切ると、リストを作れます。\n",
    "fruits_list = [\"apple\", \"banana\", \"orange\", \"pineapple\"]\n",
    "fruits_list"
   ]
  },
  {
   "cell_type": "code",
   "execution_count": null,
   "metadata": {},
   "outputs": [],
   "source": [
    "# 文字列以外も、リストに入れることができます。\n",
    "favorite_numbers = [2, 3, 5, 7, 11, 13]\n",
    "favorite_numbers"
   ]
  },
  {
   "cell_type": "markdown",
   "metadata": {},
   "source": [
    "### 注意\n",
    "list() はリスト作成のための組み込み関数なので、<br>\n",
    "\"list\" という変数は作成しないでください。"
   ]
  },
  {
   "cell_type": "code",
   "execution_count": null,
   "metadata": {},
   "outputs": [],
   "source": [
    "# リスト.append(追加する値) で、リストの末尾に要素を追加できます。\n",
    "numbers = [0, 1, 2, 3, 4]\n",
    "print(\"append前: \", numbers)\n",
    "\n",
    "numbers.append(5)\n",
    "print(\"append後: \", numbers)"
   ]
  },
  {
   "cell_type": "code",
   "execution_count": null,
   "metadata": {},
   "outputs": [],
   "source": [
    "# 文字列と同様、len()で長さを取得できます。\n",
    "len(fruits_list)"
   ]
  },
  {
   "cell_type": "markdown",
   "metadata": {},
   "source": [
    "## 4-1. インデックス"
   ]
  },
  {
   "cell_type": "code",
   "execution_count": null,
   "metadata": {},
   "outputs": [],
   "source": [
    "# リストのいいところは、インデックス(番号指定)で取り出すことができる。\n",
    "# ※Pythonの場合、一番最初は 0 です。\n",
    "fruits_list[0]"
   ]
  },
  {
   "cell_type": "code",
   "execution_count": null,
   "metadata": {},
   "outputs": [],
   "source": [
    "fruits_list[1]"
   ]
  },
  {
   "cell_type": "code",
   "execution_count": null,
   "metadata": {},
   "outputs": [],
   "source": [
    "# fruits_listには、4つの要素がありますが、0,1,2,3 なので、4を指定するとエラーになります。\n",
    "fruits_list[4]"
   ]
  },
  {
   "cell_type": "code",
   "execution_count": null,
   "metadata": {},
   "outputs": [],
   "source": []
  },
  {
   "cell_type": "code",
   "execution_count": null,
   "metadata": {},
   "outputs": [],
   "source": []
  },
  {
   "cell_type": "code",
   "execution_count": null,
   "metadata": {},
   "outputs": [],
   "source": []
  },
  {
   "cell_type": "markdown",
   "metadata": {},
   "source": [
    "## 4-2. スライス"
   ]
  },
  {
   "cell_type": "code",
   "execution_count": null,
   "metadata": {},
   "outputs": [],
   "source": [
    "# リストに入れた複数の要素で処理を行いたい場合、mylist[0], mylist[1], mylist[2]はめんどくさい。\n",
    "# -> スライスを活用\n",
    "\n",
    "print(favorite_numbers)\n",
    "\n",
    "# list[start:end]で指定します。\n",
    "# 0番目~3番目までを取得(3は含まない)\n",
    "print(favorite_numbers[0:3])"
   ]
  },
  {
   "cell_type": "code",
   "execution_count": null,
   "metadata": {},
   "outputs": [],
   "source": [
    "# スライスは、リストだけでなく、シーケンス(順列)に対して使えます。\n",
    "# 文字\"列\"にも使えます。\n",
    "\n",
    "s = \"apple\"\n",
    "s[0:3]"
   ]
  },
  {
   "cell_type": "code",
   "execution_count": null,
   "metadata": {},
   "outputs": [],
   "source": [
    "# 一番最後を指定したい場合、-1が便利です。\n",
    "s[-1]"
   ]
  },
  {
   "cell_type": "code",
   "execution_count": null,
   "metadata": {},
   "outputs": [],
   "source": [
    "# start:end で、startを指定しないということもできます。\n",
    "s[:-1]"
   ]
  },
  {
   "cell_type": "code",
   "execution_count": null,
   "metadata": {},
   "outputs": [],
   "source": [
    "# 複雑ですが、整理。\n",
    "## 下の配列： ['apple', 'banana', 'orange', 'pineapple']\n",
    "print(fruits_list)\n",
    "\n",
    "## 配列の0番目を取得(１つの文字列が入っている): 'apple'\n",
    "print(fruits_list[0])\n",
    "\n",
    "## 'apple' の文字列をスライス\n",
    "fruits_list[0][:-1]"
   ]
  },
  {
   "cell_type": "markdown",
   "metadata": {},
   "source": [
    "【練習】\n",
    "`fruits_list`から、自分が好きな果物を取り出してください。"
   ]
  },
  {
   "cell_type": "code",
   "execution_count": null,
   "metadata": {},
   "outputs": [],
   "source": []
  },
  {
   "cell_type": "markdown",
   "metadata": {},
   "source": [
    "## 演習問題(3~4)\n",
    "\n",
    "1. \"pineapple\" という文字列から、スライスを使って\"apple\"と出力してください。"
   ]
  },
  {
   "cell_type": "code",
   "execution_count": null,
   "metadata": {},
   "outputs": [],
   "source": [
    "pineapple_str = \"pineapple\"\n",
    "\n"
   ]
  },
  {
   "cell_type": "markdown",
   "metadata": {},
   "source": [
    "2. \"pineapple\" という文字列を、\"pineapples\" にしてください。(文字列 + 文字列  もしくは  文字列.replace(前, 後)  を使います)"
   ]
  },
  {
   "cell_type": "code",
   "execution_count": null,
   "metadata": {},
   "outputs": [],
   "source": [
    "pineapple_str = \"pineapple\"\n",
    "\n"
   ]
  },
  {
   "cell_type": "markdown",
   "metadata": {},
   "source": [
    "1. [2, 3, 5, 7] というリストの末尾に、11, 13, 17 を追加してください。(リスト.append(要素))"
   ]
  },
  {
   "cell_type": "code",
   "execution_count": null,
   "metadata": {},
   "outputs": [],
   "source": [
    "prime_numbers = [2, 3, 5, 7]\n",
    "\n"
   ]
  },
  {
   "cell_type": "code",
   "execution_count": null,
   "metadata": {},
   "outputs": [],
   "source": []
  },
  {
   "cell_type": "code",
   "execution_count": null,
   "metadata": {},
   "outputs": [],
   "source": []
  },
  {
   "cell_type": "markdown",
   "metadata": {},
   "source": [
    "# 6. if文(条件分岐)\n",
    "\n",
    "```python\n",
    "if 条件式:\n",
    "    処理\n",
    "elif 条件式:\n",
    "    処理\n",
    "else:\n",
    "    処理\n",
    "```\n",
    "\n",
    "※ elif, elseは無くてもOK"
   ]
  },
  {
   "cell_type": "code",
   "execution_count": null,
   "metadata": {},
   "outputs": [],
   "source": []
  },
  {
   "cell_type": "code",
   "execution_count": null,
   "metadata": {},
   "outputs": [],
   "source": [
    "input_number = 8\n",
    "\n",
    "# 5より大きいですか?\n",
    "if input_number >= 5:\n",
    "    print(\"input_number は、5より大きいです。\")\n",
    "# それ以外\n",
    "else:\n",
    "    print(\"input_number は、5より小さいです。\")"
   ]
  },
  {
   "cell_type": "code",
   "execution_count": null,
   "metadata": {},
   "outputs": [],
   "source": [
    "input_number = 2\n",
    "\n",
    "# 5より大きいですか?\n",
    "if input_number >= 5:\n",
    "    print(\"input_number は、5より大きいです。\")\n",
    "# それ以外ですね。\n",
    "else:\n",
    "    print(\"input_number は、5より小さいです。\")"
   ]
  },
  {
   "cell_type": "code",
   "execution_count": null,
   "metadata": {},
   "outputs": [],
   "source": [
    "input_number = 5\n",
    "\n",
    "# 5より大きいですか?\n",
    "if input_number > 5:\n",
    "    print(\"input_number は、5より大きいです。\")\n",
    "# では、5?\n",
    "elif input_number == 5:\n",
    "    print(\"input_number は、5です。\")\n",
    "# それ以外ですね。\n",
    "else:\n",
    "    print(\"input_number は、5より小さいです。\")"
   ]
  },
  {
   "cell_type": "markdown",
   "metadata": {},
   "source": [
    "## 6-1. 条件式\n",
    "\n",
    "True もしくは False のboolが返される、論理式。(数値の大小、文字列の一致・不一致など)\n",
    "\n",
    "| 記号 | 意味 |\n",
    "| :---: | :---: |\n",
    "| 左 == 右 | 左と右は一致 |\n",
    "| 左 != 右 | 左と右は一致しない |\n",
    "| 左 > 右 | 左は右より大きい |\n",
    "| 左 >= 右 | 左は右以上 |\n",
    "| 左 in シーケンス | 左がシーケンス内に存在 |\n",
    "| 左 and 右 | 左と右どちらもTrue |\n",
    "| 左 or 右 | 左と右どちらかがTrue |"
   ]
  },
  {
   "cell_type": "code",
   "execution_count": null,
   "metadata": {},
   "outputs": [],
   "source": [
    "5 == 5"
   ]
  },
  {
   "cell_type": "code",
   "execution_count": null,
   "metadata": {},
   "outputs": [],
   "source": [
    "1 != 5"
   ]
  },
  {
   "cell_type": "code",
   "execution_count": null,
   "metadata": {},
   "outputs": [],
   "source": [
    "1 > 5"
   ]
  },
  {
   "cell_type": "code",
   "execution_count": null,
   "metadata": {},
   "outputs": [],
   "source": [
    "6 >= 5"
   ]
  },
  {
   "cell_type": "code",
   "execution_count": null,
   "metadata": {},
   "outputs": [],
   "source": [
    "8 in [1, 2, 3, 4, 5, 6, 7, 8, 9, 10]"
   ]
  },
  {
   "cell_type": "code",
   "execution_count": null,
   "metadata": {},
   "outputs": [],
   "source": [
    "\"もも\" in \"すもももももももものうち\""
   ]
  },
  {
   "cell_type": "code",
   "execution_count": null,
   "metadata": {},
   "outputs": [],
   "source": [
    "# もちろん、TrueはTrue\n",
    "True"
   ]
  },
  {
   "cell_type": "markdown",
   "metadata": {},
   "source": [
    "つまり、if文ではこれらの条件式で True を返される場合に、それ以下(インデント内)の処理を行う."
   ]
  },
  {
   "cell_type": "markdown",
   "metadata": {},
   "source": [
    "【練習】\n",
    "文字列やリスト、数字を使って、どういう場合に`True`, `False`になるのか、試してみて下さい。"
   ]
  },
  {
   "cell_type": "code",
   "execution_count": null,
   "metadata": {},
   "outputs": [],
   "source": []
  },
  {
   "cell_type": "markdown",
   "metadata": {},
   "source": [
    "## 演習問題(6)\n",
    "\n",
    "後輩と買い物に来ています。会計が1,000円以下の場合、自分が全部出します。<br>\n",
    "ただし、1,000以上で偶数の場合は2人で割り勘、奇数の場合は仕方ないので自分が全額出します。<br><br>\n",
    "\n",
    "というプログラムを作ったのですが、`price=980` の時、結果が2つ出てしまいます。<br>\n",
    "原因を特定して、直してください。\n",
    "\n",
    "```python\n",
    "price = 980\n",
    "\n",
    "# 1000以下の場合\n",
    "if price <= 1000:\n",
    "    print(\"1000円以下なので俺がが出すよ★\")\n",
    "    print(price)\n",
    "\n",
    "# 偶数の場合\n",
    "if price % 2 == 0:\n",
    "    print(\"割り切れるね、んじゃ半分。\")\n",
    "    print(price/2)\n",
    "\n",
    "# その他(奇数)の場合\n",
    "else:\n",
    "    print(\"割り切れないかあ...じゃあ全部出すわ。\")\n",
    "    print(price)\n",
    "```"
   ]
  },
  {
   "cell_type": "code",
   "execution_count": null,
   "metadata": {},
   "outputs": [],
   "source": [
    "price = 980\n",
    "\n",
    "# 1000以下の場合\n",
    "if price <= 1000:\n",
    "    print(\"1000円以下なので俺がが出すよ★\")\n",
    "    print(price)\n",
    "\n",
    "# 偶数の場合\n",
    "if price % 2 == 0:\n",
    "    print(\"割り切れるね、んじゃ半分。\")\n",
    "    print(price/2)\n",
    "\n",
    "# その他(奇数)の場合\n",
    "else:\n",
    "    print(\"割り切れないかあ...じゃあ全部出すわ。\")\n",
    "    print(price)"
   ]
  },
  {
   "cell_type": "code",
   "execution_count": null,
   "metadata": {},
   "outputs": [],
   "source": []
  },
  {
   "cell_type": "code",
   "execution_count": null,
   "metadata": {},
   "outputs": [],
   "source": []
  },
  {
   "cell_type": "markdown",
   "metadata": {},
   "source": [
    "# 7. while\n",
    "\n",
    "和訳: 接続詞 · ［～している間に］、［～している間ずっと］<br>\n",
    "\n",
    "```python\n",
    "while 条件式:\n",
    "    処理\n",
    "```"
   ]
  },
  {
   "cell_type": "code",
   "execution_count": null,
   "metadata": {},
   "outputs": [],
   "source": [
    "x = 0\n",
    "\n",
    "while x < 10:\n",
    "    print(x)\n",
    "    # xに、元のxに1を足した数を再代入\n",
    "    x = x+1\n",
    "\n",
    "# -> xが10未満の間、1.xの中身を表示、2.xに1を足す を繰り返す"
   ]
  },
  {
   "cell_type": "code",
   "execution_count": null,
   "metadata": {},
   "outputs": [],
   "source": [
    "# if文と組み合わせる。\n",
    "## 30までの偶数だけ出力。\n",
    "\n",
    "x = 0\n",
    "while x <= 30:\n",
    "    if x % 2 == 0:\n",
    "        print(x)\n",
    "\n",
    "    # ここはifの条件式に関係なく実行される。\n",
    "    x = x + 1\n"
   ]
  },
  {
   "cell_type": "markdown",
   "metadata": {},
   "source": [
    "# 8. for文\n",
    "\n",
    "whileは\"テキストファイルの上から下まで\"など、範囲が不明な場合に良く使用してます。<br>\n",
    "(個人的に、)解析ではwhile文よりもfor文を使うイメージ<br><br>\n",
    "\n",
    "リストなどのシーケンスに対して、反復的に処理を行う。"
   ]
  },
  {
   "cell_type": "code",
   "execution_count": null,
   "metadata": {},
   "outputs": [],
   "source": [
    "# スライス(食パンを左端から切って、料理に使うイメージ)\n",
    "for n in [0, 1, 2, 3, 4, 5, 6, 7, 8]:\n",
    "    if n % 2 == 0:\n",
    "        print(n)"
   ]
  },
  {
   "cell_type": "code",
   "execution_count": null,
   "metadata": {},
   "outputs": [],
   "source": [
    "# range(start, stop) で、連続値を返すオブジェクトを作ることもできる。\n",
    "for i in range(0, 10):\n",
    "    print(i)"
   ]
  },
  {
   "cell_type": "code",
   "execution_count": null,
   "metadata": {},
   "outputs": [],
   "source": []
  },
  {
   "cell_type": "code",
   "execution_count": null,
   "metadata": {},
   "outputs": [],
   "source": [
    "for s in [\"apple\", \"banana\", \"orange\", \"pineapple\"]:\n",
    "\n",
    "    # \"apple\" が sに含まれているか\n",
    "    if \"apple\" in s:\n",
    "        print(s)"
   ]
  },
  {
   "cell_type": "code",
   "execution_count": null,
   "metadata": {},
   "outputs": [],
   "source": []
  },
  {
   "cell_type": "code",
   "execution_count": null,
   "metadata": {},
   "outputs": [],
   "source": [
    "# 空のリストに追加など\n",
    "even_numbers = []\n",
    "\n",
    "for i in range(1, 50):\n",
    "\n",
    "    # 偶数の場合、\n",
    "    if i % 2 == 0:\n",
    "        # リストに追加\n",
    "        even_numbers.append(i)\n",
    "\n",
    "print(even_numbers)"
   ]
  },
  {
   "cell_type": "code",
   "execution_count": null,
   "metadata": {},
   "outputs": [],
   "source": []
  },
  {
   "cell_type": "markdown",
   "metadata": {},
   "source": [
    "## 8-2. break と continue\n",
    "\n",
    "for や whileの処理中は、下のインデント(段落)の処理が上から順に進み、スライスし終わるまで続きます。<br>\n",
    "一方、breakを使えば \"あなぬけヒモ\"のように途中で抜け出すことができる。"
   ]
  },
  {
   "cell_type": "code",
   "execution_count": null,
   "metadata": {},
   "outputs": [],
   "source": [
    "# 1から9までを表示するはず...\n",
    "for i in range(1, 10):\n",
    "    print(i)\n",
    "    # ココで抜け出す\n",
    "    break"
   ]
  },
  {
   "cell_type": "code",
   "execution_count": null,
   "metadata": {},
   "outputs": [],
   "source": [
    "# 1から9までを表示するはず...\n",
    "for i in range(1, 10):\n",
    "    print(i)\n",
    "\n",
    "    if i == 5:\n",
    "        break"
   ]
  },
  {
   "cell_type": "code",
   "execution_count": null,
   "metadata": {},
   "outputs": [],
   "source": []
  },
  {
   "cell_type": "markdown",
   "metadata": {},
   "source": [
    "continue は \"中断せず、上からやり直す\" リセットの役割。"
   ]
  },
  {
   "cell_type": "code",
   "execution_count": null,
   "metadata": {},
   "outputs": [],
   "source": [
    "i = 0\n",
    "\n",
    "while i < 10:\n",
    "    i = i + 1\n",
    "\n",
    "    # 偶数の場合、上に戻る\n",
    "    if (i % 2) == 0:\n",
    "        continue\n",
    "\n",
    "    # continueが実行された場合、以下には行かない。\n",
    "    print(i)"
   ]
  },
  {
   "cell_type": "code",
   "execution_count": null,
   "metadata": {},
   "outputs": [],
   "source": []
  },
  {
   "cell_type": "code",
   "execution_count": null,
   "metadata": {},
   "outputs": [],
   "source": []
  },
  {
   "cell_type": "markdown",
   "metadata": {},
   "source": [
    "# 最終演習問題-1\n",
    "\n",
    "for, range, print, 四則演算などを活用し、掛け算九九の表を出力してください。<br>\n",
    "(`print(1*1, end=' ')` など、裏技もあります。ChatGPTに聞くのもOKとします。)\n",
    "\n",
    "<br>想定出力\n",
    "```\n",
    "1 2 3 4 5 6 7 8 9\n",
    "2 4 6 8 10 12 14 16 18\n",
    "3 6 9 12 15 18 21 24 27\n",
    "...\n",
    "```"
   ]
  },
  {
   "cell_type": "code",
   "execution_count": null,
   "metadata": {},
   "outputs": [],
   "source": []
  },
  {
   "cell_type": "code",
   "execution_count": null,
   "metadata": {},
   "outputs": [],
   "source": []
  },
  {
   "cell_type": "markdown",
   "metadata": {},
   "source": [
    "# 最終演習問題-2\n",
    "\n",
    "for, if, rangeなどを活用し、2~100 から素数のみをprintして下さい。"
   ]
  },
  {
   "cell_type": "markdown",
   "metadata": {},
   "source": [
    "ヒント (???を埋めてください.)\n",
    "\n",
    "```python\n",
    "for i in ???:\n",
    "\n",
    "    is_prime = True\n",
    "\n",
    "    for n in range(2, i):\n",
    "        if ???:\n",
    "            is_prime = False\n",
    "            ???\n",
    "\n",
    "    if is_prime == True:\n",
    "        print(i)\n",
    "```"
   ]
  },
  {
   "cell_type": "code",
   "execution_count": null,
   "metadata": {},
   "outputs": [],
   "source": [
    "# 2~100まで繰り返す\n",
    "for i in ???:\n",
    "\n",
    "    is_prime = True\n",
    "\n",
    "    # i が素数か判定する。\n",
    "    ## 2~i-1 までの数字で割って、どこかで割り切れたら\"素数ではない\"\n",
    "    ## 割り切れずに終わった場合、\"素数\"\n",
    "    for n in range(2, i):\n",
    "        if ???:\n",
    "            is_prime = False\n",
    "            ???\n",
    "\n",
    "    # 素数の場合、表示\n",
    "    if is_prime == True:\n",
    "        print(i)"
   ]
  },
  {
   "cell_type": "code",
   "execution_count": null,
   "metadata": {},
   "outputs": [],
   "source": []
  }
 ],
 "metadata": {
  "kernelspec": {
   "display_name": "base",
   "language": "python",
   "name": "python3"
  },
  "language_info": {
   "codemirror_mode": {
    "name": "ipython",
    "version": 3
   },
   "file_extension": ".py",
   "mimetype": "text/x-python",
   "name": "python",
   "nbconvert_exporter": "python",
   "pygments_lexer": "ipython3",
   "version": "3.10.13"
  }
 },
 "nbformat": 4,
 "nbformat_minor": 2
}
