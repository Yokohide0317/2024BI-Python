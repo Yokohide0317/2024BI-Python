{
 "cells": [
  {
   "cell_type": "markdown",
   "metadata": {},
   "source": [
    "# Pandas操作(表操作)\n",
    "\n",
    "Python第一回目はいかがだったでしょうか。<br>\n",
    "リストの扱いなどでは、「'T->U' や 'わ->は' の置き換えは、手作業の方が早そう」など、<br>\n",
    "思うところはあったと思います。<br><br>\n",
    "\n",
    "今回の表操作も、「Excelなら直感的に、簡単にできるのに」と感じる場面があるかと思います。<br>\n",
    "慣れるまでは大変ですが、慣れてしまえばExcelよりもずっと楽に解析を行えます。<br><br>\n",
    "\n",
    "焦らず、まずは今回の第8回目で体験して頂けたら幸いです。"
   ]
  },
  {
   "cell_type": "markdown",
   "metadata": {},
   "source": [
    "今回は、渡邉先生の講義、<br>\n",
    "【入門コース】6回目「【R】Rを用いた統計解析の実際」（2024年度）<br>\n",
    "で取り上げられていたデータを中心に、Pythonで操作をしてみます。<br><br>\n",
    "\n",
    "まだ受講されていない方は、先に受講してから今回の作業を開始することをオススメします。<br><br>"
   ]
  },
  {
   "cell_type": "code",
   "execution_count": null,
   "metadata": {},
   "outputs": [],
   "source": []
  },
  {
   "cell_type": "markdown",
   "metadata": {},
   "source": [
    "# 0. import\n",
    "\n",
    "import: Rではlibrary()にあたる・\n",
    "外部のモジュールやライブラリを取り込み、ここで使えるようにする。\n",
    "\n",
    "```python\n",
    "import ライブラリ名\n",
    "```\n",
    "また、import ライブラリ名 as 省略名 にすると便利<br><br>\n",
    "※ 「略するかしないか」や「どう略するか」などは規則はなく、<br>\n",
    "ほとんどが通例になっているので、使用するライブラリのimport方法は、ドキュメント通りに書いてください。\n",
    "\n",
    "<br><br>\n",
    "pandasのドキュメント: \n",
    "[https://pandas.pydata.org/docs/getting_started/intro_tutorials/01_table_oriented.html](https://pandas.pydata.org/docs/getting_started/intro_tutorials/01_table_oriented.html)"
   ]
  },
  {
   "cell_type": "code",
   "execution_count": null,
   "metadata": {},
   "outputs": [],
   "source": [
    "import pandas as pd"
   ]
  },
  {
   "cell_type": "markdown",
   "metadata": {},
   "source": [
    "Rの場合、`library(ggplot2)`をすると、`ggplot2`が持つ `ggplot`や`labs`、`geom_vline`などが<br>\n",
    "使えるようになりますが、Pythonの場合、`pd.read_csv`や`plt.scatter`など、`ライブラリ名.関数名`で指定するのが通例です。"
   ]
  },
  {
   "cell_type": "code",
   "execution_count": null,
   "metadata": {},
   "outputs": [],
   "source": []
  },
  {
   "cell_type": "markdown",
   "metadata": {},
   "source": [
    "# 1. csvファイルの読み込み\n",
    "\n",
    "講義内で解説します。<br>\n",
    "`Google Driveに保存 -> Colabにマウント -> /content/drive へ読みに行く`<br><br>\n",
    "や、\n",
    "```python\n",
    "from google.colab import files\n",
    "uploaded = files.upload()\n",
    "```\n",
    "\n",
    "という方法もあります。"
   ]
  },
  {
   "cell_type": "code",
   "execution_count": null,
   "metadata": {},
   "outputs": [],
   "source": []
  },
  {
   "cell_type": "markdown",
   "metadata": {},
   "source": [
    "### ちなみに、、、\n",
    "Rと同じ様に、Excel形式のデータで空白の行や列がある場合や、不規則な並びをしている場合は、<br>\n",
    "事前に整えておく必要があります。<br>\n",
    "<br>\n",
    "渡邉先生の講義（6回目「【R】Rを用いた統計解析の実際」）をご参照ください。<br>\n",
    "今回は事前に整えておきましたので、気にするありませんが、頭の中に入れておいて下さい。\n",
    "<br>\n",
    "![](../img/import_csv_format.png)"
   ]
  },
  {
   "cell_type": "code",
   "execution_count": null,
   "metadata": {},
   "outputs": [],
   "source": []
  },
  {
   "cell_type": "markdown",
   "metadata": {},
   "source": [
    "# 基本的な操作一覧\n",
    "\n",
    "| やりたいこと | コード | 返される形式 |\n",
    "| --- | --- | --- |\n",
    "| 上5列を表示 | df.head(5) | pandas.DataFrame |\n",
    "| 下5列を表示 | df.tail(5) | pandas.DataFrame |\n",
    "| １列だけ取得 | df[“列名1”] | pandas.Series |\n",
    "| 複数列を選択 | df[[“列名1”, “列名2”, “列名3”]] | pandas.DataFrame |\n",
    "| １行だけ取得 | df.loc[“行名1”] | pandas.Series |\n",
    "| 複数行を選択 | df.loc[[“行名1”, “行名2”, “行名3”]] | pandas.DataFrame |\n",
    "| 1列の値だけを取得 | df[“列名1”].values | numpy.array |\n",
    "| (行名は無し) | df[“列名1”].tolist() | list |\n",
    "| 列名の一覧 | df.columns |  |\n",
    "| 行名の一覧 | df.index | |\n"
   ]
  },
  {
   "cell_type": "code",
   "execution_count": null,
   "metadata": {},
   "outputs": [],
   "source": []
  },
  {
   "cell_type": "markdown",
   "metadata": {},
   "source": [
    "# 2. 例題1(列・行の指定)"
   ]
  },
  {
   "cell_type": "code",
   "execution_count": null,
   "metadata": {},
   "outputs": [],
   "source": [
    "example_1 = pd.read_csv(\"example-1-1.csv\")\n",
    "example_1"
   ]
  },
  {
   "cell_type": "markdown",
   "metadata": {},
   "source": [
    "## データフレームの要素の確認"
   ]
  },
  {
   "cell_type": "code",
   "execution_count": null,
   "metadata": {},
   "outputs": [],
   "source": [
    "# すべて見る\n",
    "example_1"
   ]
  },
  {
   "cell_type": "code",
   "execution_count": null,
   "metadata": {},
   "outputs": [],
   "source": [
    "# 上5個\n",
    "## example_1.head(5) と example_1.head() は同じ\n",
    "example_1.head()"
   ]
  },
  {
   "cell_type": "code",
   "execution_count": null,
   "metadata": {},
   "outputs": [],
   "source": [
    "# 下5個\n",
    "## example_1.tail(5) と example_1.tail() は同じ\n",
    "example_1.tail()"
   ]
  },
  {
   "cell_type": "code",
   "execution_count": null,
   "metadata": {},
   "outputs": [],
   "source": []
  },
  {
   "cell_type": "markdown",
   "metadata": {},
   "source": [
    "### 列の取得\n",
    "\n",
    "```python\n",
    "# pd.Seriesとして取得(1列のみ)\n",
    "dataframe[\"列名\"]\n",
    "\n",
    "# データフレームの一部として取得(複数列 可)\n",
    "dataframe[[\"列名1\"...]]\n",
    "```"
   ]
  },
  {
   "cell_type": "code",
   "execution_count": null,
   "metadata": {},
   "outputs": [],
   "source": [
    "# 出席番号のSeriesを取得\n",
    "example_1[\"出席番号\"]"
   ]
  },
  {
   "cell_type": "code",
   "execution_count": null,
   "metadata": {},
   "outputs": [],
   "source": [
    "# 出席番号 と 国語の 2列 を取得\n",
    "example_1[[\"出席番号\", \"国語\"]]"
   ]
  },
  {
   "cell_type": "markdown",
   "metadata": {},
   "source": [
    "### 行の取得\n",
    "\n",
    "行と同様。ただし、.loc を使用する。\n",
    "\n",
    "```python\n",
    "dataframe.loc[\"列名\"]\n",
    "```\n",
    "\n",
    "```python\n",
    "dataframe.loc[[\"列名1\"...]]\n",
    "```"
   ]
  },
  {
   "cell_type": "code",
   "execution_count": null,
   "metadata": {},
   "outputs": [],
   "source": [
    "# 行名が0の行のSeriesを取得\n",
    "example_1.loc[0]"
   ]
  },
  {
   "cell_type": "code",
   "execution_count": null,
   "metadata": {},
   "outputs": [],
   "source": [
    "# 行名が0,1,2の行のデータフレームを取得\n",
    "example_1.loc[[0, 1, 2]]"
   ]
  },
  {
   "cell_type": "code",
   "execution_count": null,
   "metadata": {},
   "outputs": [],
   "source": [
    "# スライスも使えます\n",
    "example_1.loc[0:5]"
   ]
  },
  {
   "cell_type": "markdown",
   "metadata": {},
   "source": [
    "「行名指定」の`loc`に似た、`iloc`を使って「行番号」を指定することもできます。よりこんがらがるので、今回は触れないでおきます。"
   ]
  },
  {
   "cell_type": "code",
   "execution_count": null,
   "metadata": {},
   "outputs": [],
   "source": []
  },
  {
   "cell_type": "markdown",
   "metadata": {},
   "source": [
    "### 列名の変更\n",
    "日本語での操作は、文字化けのリスクなどがあります。<br>\n",
    "対策はありますが、できれば列・行名は英語にする方が無難です。<br><br>\n",
    "\n",
    "```python\n",
    "after_df = before_df.rename(\n",
    "    columns={\"旧列名1\": \"新列名1\", \"旧列名2\": \"新列名2\"},\n",
    "    index={\"旧行名1\": \"新行名1\", \"旧行名2\": \"新行名2\"}\n",
    ")\n",
    "```\n",
    "\n",
    "※ columns, index どちらか１つでもOKで"
   ]
  },
  {
   "cell_type": "code",
   "execution_count": null,
   "metadata": {},
   "outputs": [],
   "source": [
    "translate_dict = {\"出席番号\": \"account_num\", \"国語\": \"Japanese\", \"数学\": \"Math\"}\n",
    "\n",
    "example_1_renamed = example_1.rename(columns=translate_dict)\n",
    "\n",
    "# account_numを行名にする。\n",
    "example_1_renamed = example_1_renamed.set_index(\"account_num\")\n",
    "example_1_renamed"
   ]
  },
  {
   "cell_type": "markdown",
   "metadata": {},
   "source": [
    "### 演習\n",
    "1. `example_1_renamed` から、`Japanese`の列を`Series`として取得してください。\n",
    "2. `example_1_renamed` から、`Japanese`の列を`DataFrame`として取得してください。\n",
    "3. `example_1_renamed` から、`3`,`8`,`9`の行を`DataFrame`として取得してください。"
   ]
  },
  {
   "cell_type": "code",
   "execution_count": null,
   "metadata": {},
   "outputs": [],
   "source": []
  },
  {
   "cell_type": "code",
   "execution_count": null,
   "metadata": {},
   "outputs": [],
   "source": []
  },
  {
   "cell_type": "markdown",
   "metadata": {},
   "source": [
    "## 3. 箱ひげ図(boxplot)の表示"
   ]
  },
  {
   "cell_type": "code",
   "execution_count": null,
   "metadata": {},
   "outputs": [],
   "source": [
    "# 作図をするライブラリをインポート\n",
    "# (Google Colab にはデフォルトでインストールされているハズです。インストールする際は、ターミナルで`pip install matplotlib seaborn``)\n",
    "import matplotlib.pyplot as plt\n",
    "import seaborn as sns\n",
    "\n",
    "%matplotlib inline"
   ]
  },
  {
   "cell_type": "code",
   "execution_count": null,
   "metadata": {},
   "outputs": [],
   "source": [
    "# https://seaborn.pydata.org/generated/seaborn.boxplot.html\n",
    "\n",
    "sns.boxplot(data=example_1_renamed)\n",
    "plt.show()"
   ]
  },
  {
   "cell_type": "markdown",
   "metadata": {},
   "source": [
    "---\n",
    "シンプルなデータなら、seabornの関数に突っ込むだけでできる。<br>\n",
    "が、下のような性別などを入れたで、別々に表示などがしたい場合、先程の表の形式ではできない。\n",
    "![](../img/boxplot_with_sex.png)"
   ]
  },
  {
   "cell_type": "code",
   "execution_count": null,
   "metadata": {},
   "outputs": [],
   "source": [
    "# 性別を入れたデータ(example-1-2.csv)を読み込む\n",
    "# `index_col=列番号` で、行名となる列を指定できる。\n",
    "\n",
    "example_1_2 = pd.read_csv(\"example-1-2.csv\", index_col=0)\n",
    "example_1_2"
   ]
  },
  {
   "cell_type": "code",
   "execution_count": null,
   "metadata": {},
   "outputs": [],
   "source": [
    "# 整然データに直す(tidyデータ)\n",
    "## ※個々の変数が１つの列にまとまったような形式\n",
    "\n",
    "example_1_2_tidy = example_1_2.melt(\n",
    "    # 質的変数として使う(残す)列を指定\n",
    "    id_vars=[\"sex\"],\n",
    "    # 量的変数として扱う(まとめる)列を指定\n",
    "    value_vars=[\"Japanese\", \"Math\"],\n",
    "    # (optional) 新しく追加される、量的変数の 「カテゴリ名」と「数値」の列名を決める。\n",
    "    var_name=\"subject\", value_name=\"score\"\n",
    ")\n",
    "\n",
    "example_1_2_tidy"
   ]
  },
  {
   "cell_type": "code",
   "execution_count": null,
   "metadata": {},
   "outputs": [],
   "source": [
    "sns.boxplot(data=example_1_2_tidy, x=\"subject\", y=\"score\", hue=\"sex\")\n",
    "plt.show()"
   ]
  },
  {
   "cell_type": "code",
   "execution_count": null,
   "metadata": {},
   "outputs": [],
   "source": []
  },
  {
   "cell_type": "code",
   "execution_count": null,
   "metadata": {},
   "outputs": [],
   "source": []
  },
  {
   "cell_type": "markdown",
   "metadata": {},
   "source": [
    "# 4. 簡単な統計"
   ]
  },
  {
   "cell_type": "code",
   "execution_count": null,
   "metadata": {},
   "outputs": [],
   "source": [
    "example_2 = pd.read_csv(\"example-2-1.csv\", index_col=0)\n",
    "example_2"
   ]
  },
  {
   "cell_type": "code",
   "execution_count": null,
   "metadata": {},
   "outputs": [],
   "source": [
    "example_2.sum()"
   ]
  },
  {
   "cell_type": "code",
   "execution_count": null,
   "metadata": {},
   "outputs": [],
   "source": [
    "example_2.sum(axis=1)"
   ]
  },
  {
   "cell_type": "code",
   "execution_count": null,
   "metadata": {},
   "outputs": [],
   "source": [
    "example_2.mean(axis=1)"
   ]
  },
  {
   "cell_type": "code",
   "execution_count": null,
   "metadata": {},
   "outputs": [],
   "source": [
    "# 2つの列を抜き出した上で、平均値を取る\n",
    "example_2[[\"Japanese\", \"English\"]].sum(axis=1)"
   ]
  },
  {
   "cell_type": "code",
   "execution_count": null,
   "metadata": {},
   "outputs": [],
   "source": [
    "example_2.describe()"
   ]
  },
  {
   "cell_type": "code",
   "execution_count": null,
   "metadata": {},
   "outputs": [],
   "source": [
    "example_2.sort_values(by=\"Math\", ascending=False)"
   ]
  },
  {
   "cell_type": "code",
   "execution_count": null,
   "metadata": {},
   "outputs": [],
   "source": []
  },
  {
   "cell_type": "code",
   "execution_count": null,
   "metadata": {},
   "outputs": [],
   "source": [
    "sns.boxplot(data=example_2)\n",
    "plt.show()"
   ]
  },
  {
   "cell_type": "code",
   "execution_count": null,
   "metadata": {},
   "outputs": [],
   "source": [
    "sns.boxplot(data=example_2)\n",
    "\n",
    "plt.title(\"Scores for each subject\")\n",
    "plt.xlabel(\"Subject\")\n",
    "plt.ylabel(\"Score\")\n",
    "plt.show()"
   ]
  },
  {
   "cell_type": "code",
   "execution_count": null,
   "metadata": {},
   "outputs": [],
   "source": []
  },
  {
   "cell_type": "markdown",
   "metadata": {},
   "source": [
    "# 演習問題1\n",
    "\n",
    "`example-2-2.csv`を読み込み、以下のような箱ひげ図を描いてください。<br>\n",
    "- pd.read_csv() で読み込み\n",
    "- データ.melt() でtidyデータにする。\n",
    "- sns.boxplot() で可視化\n",
    "\n",
    "![](../img/boxplot_with_sex_2.png)"
   ]
  },
  {
   "cell_type": "code",
   "execution_count": null,
   "metadata": {},
   "outputs": [],
   "source": []
  },
  {
   "cell_type": "code",
   "execution_count": null,
   "metadata": {},
   "outputs": [],
   "source": []
  },
  {
   "cell_type": "markdown",
   "metadata": {},
   "source": [
    "## 新しい列の挿入\n",
    "\n",
    "`.sum()`や`.mean()`などが使えるようになったので、Excelのように「新しい列を追加」したくなるかと思います。\n",
    "\n",
    "```\n",
    "df[\"新しい列名\"] = データ\n",
    "```\n",
    "で、データフレームに新しい列を追加できます。<br>\n",
    "ただし、行数が対応している必要があります。"
   ]
  },
  {
   "cell_type": "code",
   "execution_count": null,
   "metadata": {},
   "outputs": [],
   "source": [
    "example_2"
   ]
  },
  {
   "cell_type": "code",
   "execution_count": null,
   "metadata": {},
   "outputs": [],
   "source": [
    "example_2[\"Language\"] = example_2[[\"Japanese\", \"English\"]].sum(axis=1)\n",
    "example_2"
   ]
  },
  {
   "cell_type": "code",
   "execution_count": null,
   "metadata": {},
   "outputs": [],
   "source": [
    "example_2[\"Mean\"] = example_2[[\"Japanese\", \"Math\", \"English\", \"Science\"]].mean(axis=1)\n",
    "example_2"
   ]
  },
  {
   "cell_type": "code",
   "execution_count": null,
   "metadata": {},
   "outputs": [],
   "source": []
  },
  {
   "cell_type": "markdown",
   "metadata": {},
   "source": [
    "# 5. 散布図\n",
    "\n",
    "`example_2`のデータを使い、各教科の相関を見てみましょう。"
   ]
  },
  {
   "cell_type": "code",
   "execution_count": null,
   "metadata": {},
   "outputs": [],
   "source": [
    "example_2"
   ]
  },
  {
   "cell_type": "code",
   "execution_count": null,
   "metadata": {},
   "outputs": [],
   "source": [
    "# https://seaborn.pydata.org/generated/seaborn.scatterplot.html\n",
    "\n",
    "sns.scatterplot(data=example_2, x=\"Japanese\", y=\"Math\")\n",
    "plt.show()"
   ]
  },
  {
   "cell_type": "code",
   "execution_count": null,
   "metadata": {},
   "outputs": [],
   "source": [
    "sns.pairplot(data=example_2[[\"Japanese\", \"Math\", \"English\", \"Science\"]])\n",
    "plt.show()"
   ]
  },
  {
   "cell_type": "code",
   "execution_count": null,
   "metadata": {},
   "outputs": [],
   "source": []
  },
  {
   "cell_type": "markdown",
   "metadata": {},
   "source": [
    "# T検定\n",
    "２つのグループの平均に統計的な差があるかどうか、t検定を取ってみましょう。\n",
    "\n",
    "---\n",
    "\n",
    "渡邉先生の講義(第５回目【R-2】)のコード、\n",
    "```\n",
    "t.test(d4)#t検定を実行します\n",
    "```\n",
    "\n",
    "をPythonで行うには、`scipy.stats.ttest_ind` を使います。"
   ]
  },
  {
   "cell_type": "markdown",
   "metadata": {},
   "source": [
    "`example-1-1.csv`(`example_1`として読み込み済み)で検定してみましょう。\n",
    "\n",
    "![](../img/R_Ttest.png)"
   ]
  },
  {
   "cell_type": "code",
   "execution_count": 1,
   "metadata": {},
   "outputs": [],
   "source": []
  },
  {
   "cell_type": "code",
   "execution_count": null,
   "metadata": {},
   "outputs": [],
   "source": [
    "# 渡邉先生の講義を参考に、身長データを準備。\n",
    "## 簡略化のため、「母集団の分散が等しい、独立した２つのサンプル群」と仮定します。\n",
    "\n",
    "heigth1 = [165.6, 161.3, 163.1, 167.1, 165.9, 156.9, 163.0, 159.5, 159.7, 161.3]\n",
    "heigth2 = [175.5, 179.6, 177.4, 175.4, 176.4, 176.1, 179.7, 174.4, 176.0, 172.3]"
   ]
  },
  {
   "cell_type": "code",
   "execution_count": null,
   "metadata": {},
   "outputs": [],
   "source": [
    "from scipy.stats import ttest_ind, ttest_rel\n",
    "\n",
    "# tttest_ind: 独立な2群のt検定\n",
    "# ttest_rel: 対応のある2群のt検定\n",
    "\n",
    "help(ttest_ind)"
   ]
  },
  {
   "cell_type": "code",
   "execution_count": null,
   "metadata": {},
   "outputs": [],
   "source": [
    "# t-statistic: t値(統計量) = abs(平均-母平均) / (標準偏差/√n) (n: サンプル数)\n",
    "# p-value: p値\n",
    "# df: 自由度\n",
    "\n",
    "ttest_ind(heigth1, heigth2)"
   ]
  },
  {
   "cell_type": "code",
   "execution_count": null,
   "metadata": {},
   "outputs": [],
   "source": []
  },
  {
   "cell_type": "markdown",
   "metadata": {},
   "source": [
    "# データフレームの行を取り出して、検定にかけてみる。"
   ]
  },
  {
   "cell_type": "code",
   "execution_count": null,
   "metadata": {},
   "outputs": [],
   "source": [
    "example_1"
   ]
  },
  {
   "cell_type": "code",
   "execution_count": null,
   "metadata": {},
   "outputs": [],
   "source": [
    "kokugo_score = example_1[\"国語\"].values\n",
    "suugaku_score = example_1[\"数学\"].values\n",
    "print(kokugo_score)"
   ]
  },
  {
   "cell_type": "code",
   "execution_count": null,
   "metadata": {},
   "outputs": [],
   "source": [
    "ttest_ind(kokugo_score, suugaku_score)"
   ]
  },
  {
   "cell_type": "code",
   "execution_count": null,
   "metadata": {},
   "outputs": [],
   "source": []
  },
  {
   "cell_type": "markdown",
   "metadata": {},
   "source": [
    "### 演習\n",
    "`example_2`から2つの教科を選び、２群間の平均に差があるか確かめてみて下さい。"
   ]
  },
  {
   "cell_type": "code",
   "execution_count": null,
   "metadata": {},
   "outputs": [],
   "source": []
  },
  {
   "cell_type": "markdown",
   "metadata": {},
   "source": [
    "ttestのほかにも、`scipy.stats`や`statsmodels`では、様々な統計計算用の関数が用意されています。<br>\n",
    "必要な手法は、`Python ANOVA`のように、検索(or AIに質問)してみて下さい。"
   ]
  },
  {
   "cell_type": "code",
   "execution_count": null,
   "metadata": {},
   "outputs": [],
   "source": []
  },
  {
   "cell_type": "code",
   "execution_count": null,
   "metadata": {},
   "outputs": [],
   "source": []
  }
 ],
 "metadata": {
  "kernelspec": {
   "display_name": "workspace",
   "language": "python",
   "name": "python3"
  },
  "language_info": {
   "codemirror_mode": {
    "name": "ipython",
    "version": 3
   },
   "file_extension": ".py",
   "mimetype": "text/x-python",
   "name": "python",
   "nbconvert_exporter": "python",
   "pygments_lexer": "ipython3",
   "version": "3.10.13"
  }
 },
 "nbformat": 4,
 "nbformat_minor": 2
}
