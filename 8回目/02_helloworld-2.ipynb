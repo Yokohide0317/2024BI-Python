{
 "cells": [
  {
   "cell_type": "markdown",
   "metadata": {},
   "source": [
    "# Shift + Enterで実行できます。"
   ]
  },
  {
   "cell_type": "markdown",
   "metadata": {},
   "source": [
    "## (復習) 4-2. スライス"
   ]
  },
  {
   "cell_type": "code",
   "execution_count": null,
   "metadata": {},
   "outputs": [],
   "source": [
    "favorite_numbers = [2, 3, 5, 7, 11, 13]"
   ]
  },
  {
   "cell_type": "code",
   "execution_count": null,
   "metadata": {},
   "outputs": [],
   "source": [
    "# リストに入れた複数の要素で処理を行いたい場合、mylist[0], mylist[1], mylist[2]はめんどくさい。\n",
    "# -> スライスを活用\n",
    "\n",
    "print(favorite_numbers)\n",
    "\n",
    "# list[start:end]で指定します。\n",
    "# 0番目~3番目までを取得(3は含まない)\n",
    "print(favorite_numbers[0:3])"
   ]
  },
  {
   "cell_type": "code",
   "execution_count": null,
   "metadata": {},
   "outputs": [],
   "source": [
    "# スライスは、リストだけでなく、シーケンス(順列)に対して使えます。\n",
    "# 文字\"列\"にも使えます。\n",
    "\n",
    "s = \"apple\"\n",
    "s[0:3]"
   ]
  },
  {
   "cell_type": "code",
   "execution_count": null,
   "metadata": {},
   "outputs": [],
   "source": [
    "# 一番最後を指定したい場合、-1が便利です。\n",
    "s[-1]"
   ]
  },
  {
   "cell_type": "code",
   "execution_count": null,
   "metadata": {},
   "outputs": [],
   "source": [
    "# start:end で、startを指定しないということもできます。\n",
    "s[:-1]"
   ]
  },
  {
   "cell_type": "code",
   "execution_count": null,
   "metadata": {},
   "outputs": [],
   "source": []
  },
  {
   "cell_type": "markdown",
   "metadata": {},
   "source": [
    "## 演習問題(3~4)\n",
    "\n",
    "1. \"pineapple\" という文字列から、スライスを使って\"apple\"と出力してください。"
   ]
  },
  {
   "cell_type": "code",
   "execution_count": null,
   "metadata": {},
   "outputs": [],
   "source": [
    "pineapple_str = \"pineapple\"\n",
    "\n"
   ]
  },
  {
   "cell_type": "markdown",
   "metadata": {},
   "source": [
    "2. \"pineapple\" という文字列を、\"pineapples\" にしてください。(文字列 + 文字列  もしくは  文字列.replace(前, 後)  を使います)"
   ]
  },
  {
   "cell_type": "code",
   "execution_count": null,
   "metadata": {},
   "outputs": [],
   "source": [
    "pineapple_str = \"pineapple\"\n",
    "\n"
   ]
  },
  {
   "cell_type": "markdown",
   "metadata": {},
   "source": [
    "1. [2, 3, 5, 7] というリストの末尾に、11, 13, 17 を追加してください。(リスト.append(要素))"
   ]
  },
  {
   "cell_type": "code",
   "execution_count": null,
   "metadata": {},
   "outputs": [],
   "source": [
    "prime_numbers = [2, 3, 5, 7]\n",
    "\n"
   ]
  },
  {
   "cell_type": "code",
   "execution_count": null,
   "metadata": {},
   "outputs": [],
   "source": []
  },
  {
   "cell_type": "markdown",
   "metadata": {},
   "source": [
    "# 5. 辞書型\n",
    "\n",
    "リストの弱点は、思った場所を指定できない。(英和辞典は、ページ番号を指定して使わない)<br>\n",
    "\n",
    "辞書型(dictionary)では、{key: value} で、ペアにして格納できる。"
   ]
  },
  {
   "cell_type": "code",
   "execution_count": null,
   "metadata": {},
   "outputs": [],
   "source": [
    "en_ja = {\n",
    "    \"apple\": \"りんご\",\n",
    "    'banana': \"ばなな\",\n",
    "    'orange': \"おれんじ\",\n",
    "    'pineapple': \"ぱいなっぷる\",\n",
    "}\n",
    "\n",
    "print(en_ja)"
   ]
  },
  {
   "cell_type": "markdown",
   "metadata": {},
   "source": [
    "### 注意\n",
    "dict() はリスト作成のための組み込み関数なので、<br>\n",
    "dict という変数は作成しないでください。"
   ]
  },
  {
   "cell_type": "code",
   "execution_count": null,
   "metadata": {},
   "outputs": [],
   "source": [
    "# 取り出してみる\n",
    "en_ja[\"apple\"]"
   ]
  },
  {
   "cell_type": "code",
   "execution_count": null,
   "metadata": {},
   "outputs": [],
   "source": [
    "# keyの一覧\n",
    "en_ja.keys()"
   ]
  },
  {
   "cell_type": "code",
   "execution_count": null,
   "metadata": {},
   "outputs": [],
   "source": [
    "# valueの一覧\n",
    "en_ja.values()"
   ]
  },
  {
   "cell_type": "code",
   "execution_count": null,
   "metadata": {},
   "outputs": [],
   "source": [
    "# どうしてもindex指定したい場合、keys()を組み合わせてできる。\n",
    "\n",
    "## keyの1番目の名前を取得\n",
    "print(list(en_ja.keys())[1])\n",
    "\n",
    "## keyの1番目の名前でvalueを取得\n",
    "print(en_ja[list(en_ja.keys())[1]])"
   ]
  },
  {
   "cell_type": "markdown",
   "metadata": {},
   "source": [
    "## 演習問題(5)\n",
    "\n",
    "下に示す組み合わせを、\n",
    "都道府県: 県庁所在地\n",
    "の辞書形式で作成してください。また、\"沖縄県\"の県庁所在地を取り出して下さい。\n",
    "\n",
    "\n",
    "| 都道府県 | 県庁所在地 |\n",
    "| :---: | :---: |\n",
    "| 北海道 | 札幌市 |\n",
    "| 東京都 | 新宿区 |\n",
    "| 愛知県 | 名古屋市 |\n",
    "| 香川県 | 高松市 |\n",
    "| 沖縄県 | 那覇市 |"
   ]
  },
  {
   "cell_type": "code",
   "execution_count": null,
   "metadata": {},
   "outputs": [],
   "source": [
    "prefectures_dict = ???"
   ]
  },
  {
   "cell_type": "code",
   "execution_count": null,
   "metadata": {},
   "outputs": [],
   "source": []
  },
  {
   "cell_type": "code",
   "execution_count": null,
   "metadata": {},
   "outputs": [],
   "source": []
  },
  {
   "cell_type": "markdown",
   "metadata": {},
   "source": [
    "# (第7回目) 最終演習問題-1\n",
    "\n",
    "for, range, print, 四則演算などを活用し、掛け算九九の表を出力してください。<br>\n",
    "(`print(1*1, end=' ')` など、裏技もあります。ChatGPTに聞くのもOKとします。)\n",
    "\n",
    "<br>想定出力\n",
    "```\n",
    "1 2 3 4 5 6 7 8 9\n",
    "2 4 6 8 10 12 14 16 18\n",
    "3 6 9 12 15 18 21 24 27\n",
    "...\n",
    "```"
   ]
  },
  {
   "cell_type": "code",
   "execution_count": null,
   "metadata": {},
   "outputs": [],
   "source": []
  },
  {
   "cell_type": "code",
   "execution_count": null,
   "metadata": {},
   "outputs": [],
   "source": []
  },
  {
   "cell_type": "markdown",
   "metadata": {},
   "source": [
    "# # (第7回目) 最終演習問題-2\n",
    "\n",
    "for, if, rangeなどを活用し、2~100 から素数のみをprintして下さい。"
   ]
  },
  {
   "cell_type": "markdown",
   "metadata": {},
   "source": [
    "ヒント (???を埋めてください.)\n",
    "\n",
    "```python\n",
    "for i in ???:\n",
    "\n",
    "    is_prime = True\n",
    "\n",
    "    for n in range(2, i):\n",
    "        if ???:\n",
    "            is_prime = False\n",
    "            ???\n",
    "\n",
    "    if is_prime == True:\n",
    "        print(i)\n",
    "```"
   ]
  },
  {
   "cell_type": "code",
   "execution_count": null,
   "metadata": {},
   "outputs": [],
   "source": [
    "# 2~100まで繰り返す\n",
    "for i in ???:\n",
    "\n",
    "    is_prime = True\n",
    "\n",
    "    # i が素数か判定する。\n",
    "    ## 2~i-1 までの数字で割って、どこかで割り切れたら\"素数ではない\"\n",
    "    ## 割り切れずに終わった場合、\"素数\"\n",
    "    for n in range(2, i):\n",
    "        if ???:\n",
    "            is_prime = False\n",
    "            ???\n",
    "\n",
    "    # 素数の場合、表示\n",
    "    if is_prime == True:\n",
    "        print(i)"
   ]
  },
  {
   "cell_type": "code",
   "execution_count": null,
   "metadata": {},
   "outputs": [],
   "source": []
  },
  {
   "cell_type": "markdown",
   "metadata": {},
   "source": [
    "# 関数の定義(def0)\n",
    "\n",
    "def では、今まで使ってきた`len()`や`range()`のような関数を、自分で作ることができます。<br>\n",
    "\n",
    "```python\n",
    "def 関数名(引数):\n",
    "    処理\n",
    "    return 戻り値\n",
    "```"
   ]
  },
  {
   "cell_type": "code",
   "execution_count": null,
   "metadata": {},
   "outputs": [],
   "source": [
    "def add_a_b(a, b):\n",
    "    return a+b\n",
    "\n",
    "add_a_b(1, 3)"
   ]
  },
  {
   "cell_type": "code",
   "execution_count": null,
   "metadata": {},
   "outputs": [],
   "source": [
    "# 意味はあまり無いですが、引数無しもできます。\n",
    "\n",
    "# 何がなんでも`1`を返す関数\n",
    "def function_01():\n",
    "    return 1\n",
    "\n",
    "function_01()"
   ]
  },
  {
   "cell_type": "code",
   "execution_count": null,
   "metadata": {},
   "outputs": [],
   "source": [
    "# ※少し難しいです。\n",
    "# 関数の外で定義した変数(グローバル変数)を参照することができます。\n",
    "# ただし、関数の中で再代入しても、元の値は変わりません。\n",
    "# (リスト.append()などの変更は反映されます。)\n",
    "\n",
    "x = 10\n",
    "\n",
    "def function_02():\n",
    "    x = 2\n",
    "    print(\"function_02の中: \", x)\n",
    "\n",
    "def function_03():\n",
    "    x = 3\n",
    "    print(\"function_03の中: \", x)\n",
    "\n",
    "\n",
    "print(\"実行前(関数の外): \", x)\n",
    "function_02()\n",
    "function_03()\n",
    "print(\"実行後(関数の外): \", x)"
   ]
  },
  {
   "cell_type": "markdown",
   "metadata": {},
   "source": [
    "## 演習問題\n",
    "\n",
    "DNAの文字列(ATGC)を入力として受付け、<br>\n",
    "関数内で TをUに変換し、<br>\n",
    "RNAの文字列(AUGC)として返してください。<br>\n",
    "ヒント: `文字列.replace(\"前\", \"後\")`を使います"
   ]
  },
  {
   "cell_type": "code",
   "execution_count": null,
   "metadata": {},
   "outputs": [],
   "source": [
    "def dna_to_rna(dna_seq):\n",
    "    rna_seq = ???\n",
    "    return ???\n",
    "\n",
    "dna_to_rna(\"ATGCAATTGCCTT\")\n",
    "\n",
    "\n",
    "# -> AUGCAAUUGCCUU になるはずです。"
   ]
  }
 ],
 "metadata": {
  "kernelspec": {
   "display_name": "base",
   "language": "python",
   "name": "python3"
  },
  "language_info": {
   "codemirror_mode": {
    "name": "ipython",
    "version": 3
   },
   "file_extension": ".py",
   "mimetype": "text/x-python",
   "name": "python",
   "nbconvert_exporter": "python",
   "pygments_lexer": "ipython3",
   "version": "3.10.13"
  }
 },
 "nbformat": 4,
 "nbformat_minor": 2
}
