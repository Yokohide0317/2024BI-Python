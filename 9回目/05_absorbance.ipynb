{
 "cells": [
  {
   "cell_type": "code",
   "execution_count": 1,
   "metadata": {},
   "outputs": [],
   "source": [
    "import pandas as pd\n",
    "import matplotlib.pyplot as plt\n",
    "import seaborn as sns\n",
    "\n",
    "%matplotlib inline"
   ]
  },
  {
   "cell_type": "markdown",
   "metadata": {},
   "source": [
    "# （復習）Pandasの基本的な操作一覧\n",
    "\n",
    "| やりたいこと | コード | 返される形式 |\n",
    "| --- | --- | --- |\n",
    "| 上5列を表示 | df.head(5) | pandas.DataFrame |\n",
    "| 下5列を表示 | df.tail(5) | pandas.DataFrame |\n",
    "| １列だけ取得 | df[“列名1”] | pandas.Series |\n",
    "| 複数列を選択 | df[[“列名1”, “列名2”, “列名3”]] | pandas.DataFrame |\n",
    "| １行だけ取得 | df.loc[“行名1”] | pandas.Series |\n",
    "| 複数行を選択 | df.loc[[“行名1”, “行名2”, “行名3”]] | pandas.DataFrame |\n",
    "| 1列の値だけを取得 | df[“列名1”].values | numpy.array |\n",
    "| (行名は無し) | df[“列名1”].tolist() | list |\n",
    "| 列名の一覧 | df.columns |  |\n",
    "| 行名の一覧 | df.index | |\n"
   ]
  },
  {
   "cell_type": "code",
   "execution_count": null,
   "metadata": {},
   "outputs": [],
   "source": []
  },
  {
   "cell_type": "markdown",
   "metadata": {},
   "source": [
    "# 検量線\n",
    "スライドで説明します。\n",
    "\n",
    "## データ\n",
    "| ファイル名 | 説明 |\n",
    "| --- | --- |\n",
    "| mk_conc_standard.csv | 標準物質で測定した、濃度vs吸光度の値 |\n",
    "| mk_conc_sample.csv | 未知濃度のサンプルの吸光度 |\n",
    "\n",
    "※いずれも、吸光度はn=2で測定。平均値を使用することとする。"
   ]
  },
  {
   "cell_type": "code",
   "execution_count": 2,
   "metadata": {},
   "outputs": [
    {
     "data": {
      "text/html": [
       "<div>\n",
       "<style scoped>\n",
       "    .dataframe tbody tr th:only-of-type {\n",
       "        vertical-align: middle;\n",
       "    }\n",
       "\n",
       "    .dataframe tbody tr th {\n",
       "        vertical-align: top;\n",
       "    }\n",
       "\n",
       "    .dataframe thead th {\n",
       "        text-align: right;\n",
       "    }\n",
       "</style>\n",
       "<table border=\"1\" class=\"dataframe\">\n",
       "  <thead>\n",
       "    <tr style=\"text-align: right;\">\n",
       "      <th></th>\n",
       "      <th>absorbance-1</th>\n",
       "      <th>absorbance-2</th>\n",
       "      <th>MK(ng/mL)</th>\n",
       "    </tr>\n",
       "    <tr>\n",
       "      <th>standard_sample</th>\n",
       "      <th></th>\n",
       "      <th></th>\n",
       "      <th></th>\n",
       "    </tr>\n",
       "  </thead>\n",
       "  <tbody>\n",
       "    <tr>\n",
       "      <th>1</th>\n",
       "      <td>0.005</td>\n",
       "      <td>0.003</td>\n",
       "      <td>0.0000</td>\n",
       "    </tr>\n",
       "    <tr>\n",
       "      <th>2</th>\n",
       "      <td>0.036</td>\n",
       "      <td>0.040</td>\n",
       "      <td>0.3125</td>\n",
       "    </tr>\n",
       "    <tr>\n",
       "      <th>3</th>\n",
       "      <td>0.074</td>\n",
       "      <td>0.065</td>\n",
       "      <td>0.6250</td>\n",
       "    </tr>\n",
       "    <tr>\n",
       "      <th>4</th>\n",
       "      <td>0.143</td>\n",
       "      <td>0.134</td>\n",
       "      <td>1.2500</td>\n",
       "    </tr>\n",
       "    <tr>\n",
       "      <th>5</th>\n",
       "      <td>0.292</td>\n",
       "      <td>0.275</td>\n",
       "      <td>2.5000</td>\n",
       "    </tr>\n",
       "    <tr>\n",
       "      <th>6</th>\n",
       "      <td>0.562</td>\n",
       "      <td>0.536</td>\n",
       "      <td>5.0000</td>\n",
       "    </tr>\n",
       "  </tbody>\n",
       "</table>\n",
       "</div>"
      ],
      "text/plain": [
       "                 absorbance-1  absorbance-2  MK(ng/mL)\n",
       "standard_sample                                       \n",
       "1                       0.005         0.003     0.0000\n",
       "2                       0.036         0.040     0.3125\n",
       "3                       0.074         0.065     0.6250\n",
       "4                       0.143         0.134     1.2500\n",
       "5                       0.292         0.275     2.5000\n",
       "6                       0.562         0.536     5.0000"
      ]
     },
     "execution_count": 2,
     "metadata": {},
     "output_type": "execute_result"
    }
   ],
   "source": [
    "mk_standard = pd.read_csv(\"mk_conc_standard.csv\", index_col=0)\n",
    "mk_standard"
   ]
  },
  {
   "cell_type": "code",
   "execution_count": 3,
   "metadata": {},
   "outputs": [
    {
     "data": {
      "text/html": [
       "<div>\n",
       "<style scoped>\n",
       "    .dataframe tbody tr th:only-of-type {\n",
       "        vertical-align: middle;\n",
       "    }\n",
       "\n",
       "    .dataframe tbody tr th {\n",
       "        vertical-align: top;\n",
       "    }\n",
       "\n",
       "    .dataframe thead th {\n",
       "        text-align: right;\n",
       "    }\n",
       "</style>\n",
       "<table border=\"1\" class=\"dataframe\">\n",
       "  <thead>\n",
       "    <tr style=\"text-align: right;\">\n",
       "      <th></th>\n",
       "      <th>absorbance-1</th>\n",
       "      <th>absorbance-2</th>\n",
       "      <th>MK(ng/mL)</th>\n",
       "      <th>absorbance-mean</th>\n",
       "    </tr>\n",
       "    <tr>\n",
       "      <th>standard_sample</th>\n",
       "      <th></th>\n",
       "      <th></th>\n",
       "      <th></th>\n",
       "      <th></th>\n",
       "    </tr>\n",
       "  </thead>\n",
       "  <tbody>\n",
       "    <tr>\n",
       "      <th>1</th>\n",
       "      <td>0.005</td>\n",
       "      <td>0.003</td>\n",
       "      <td>0.0000</td>\n",
       "      <td>0.0040</td>\n",
       "    </tr>\n",
       "    <tr>\n",
       "      <th>2</th>\n",
       "      <td>0.036</td>\n",
       "      <td>0.040</td>\n",
       "      <td>0.3125</td>\n",
       "      <td>0.0380</td>\n",
       "    </tr>\n",
       "    <tr>\n",
       "      <th>3</th>\n",
       "      <td>0.074</td>\n",
       "      <td>0.065</td>\n",
       "      <td>0.6250</td>\n",
       "      <td>0.0695</td>\n",
       "    </tr>\n",
       "    <tr>\n",
       "      <th>4</th>\n",
       "      <td>0.143</td>\n",
       "      <td>0.134</td>\n",
       "      <td>1.2500</td>\n",
       "      <td>0.1385</td>\n",
       "    </tr>\n",
       "    <tr>\n",
       "      <th>5</th>\n",
       "      <td>0.292</td>\n",
       "      <td>0.275</td>\n",
       "      <td>2.5000</td>\n",
       "      <td>0.2835</td>\n",
       "    </tr>\n",
       "    <tr>\n",
       "      <th>6</th>\n",
       "      <td>0.562</td>\n",
       "      <td>0.536</td>\n",
       "      <td>5.0000</td>\n",
       "      <td>0.5490</td>\n",
       "    </tr>\n",
       "  </tbody>\n",
       "</table>\n",
       "</div>"
      ],
      "text/plain": [
       "                 absorbance-1  absorbance-2  MK(ng/mL)  absorbance-mean\n",
       "standard_sample                                                        \n",
       "1                       0.005         0.003     0.0000           0.0040\n",
       "2                       0.036         0.040     0.3125           0.0380\n",
       "3                       0.074         0.065     0.6250           0.0695\n",
       "4                       0.143         0.134     1.2500           0.1385\n",
       "5                       0.292         0.275     2.5000           0.2835\n",
       "6                       0.562         0.536     5.0000           0.5490"
      ]
     },
     "execution_count": 3,
     "metadata": {},
     "output_type": "execute_result"
    }
   ],
   "source": [
    "mk_standard[\"absorbance-mean\"] = mk_standard[[\"absorbance-1\", \"absorbance-2\"]].mean(axis=1)\n",
    "mk_standard"
   ]
  },
  {
   "cell_type": "code",
   "execution_count": 4,
   "metadata": {},
   "outputs": [
    {
     "data": {
      "text/html": [
       "<div>\n",
       "<style scoped>\n",
       "    .dataframe tbody tr th:only-of-type {\n",
       "        vertical-align: middle;\n",
       "    }\n",
       "\n",
       "    .dataframe tbody tr th {\n",
       "        vertical-align: top;\n",
       "    }\n",
       "\n",
       "    .dataframe thead th {\n",
       "        text-align: right;\n",
       "    }\n",
       "</style>\n",
       "<table border=\"1\" class=\"dataframe\">\n",
       "  <thead>\n",
       "    <tr style=\"text-align: right;\">\n",
       "      <th></th>\n",
       "      <th>absorbance-1</th>\n",
       "      <th>absorbance-2</th>\n",
       "    </tr>\n",
       "    <tr>\n",
       "      <th>sample</th>\n",
       "      <th></th>\n",
       "      <th></th>\n",
       "    </tr>\n",
       "  </thead>\n",
       "  <tbody>\n",
       "    <tr>\n",
       "      <th>1</th>\n",
       "      <td>0.065</td>\n",
       "      <td>0.063</td>\n",
       "    </tr>\n",
       "    <tr>\n",
       "      <th>2</th>\n",
       "      <td>1.947</td>\n",
       "      <td>1.901</td>\n",
       "    </tr>\n",
       "    <tr>\n",
       "      <th>3</th>\n",
       "      <td>0.116</td>\n",
       "      <td>0.121</td>\n",
       "    </tr>\n",
       "    <tr>\n",
       "      <th>4</th>\n",
       "      <td>1.325</td>\n",
       "      <td>1.327</td>\n",
       "    </tr>\n",
       "    <tr>\n",
       "      <th>5</th>\n",
       "      <td>0.094</td>\n",
       "      <td>0.084</td>\n",
       "    </tr>\n",
       "  </tbody>\n",
       "</table>\n",
       "</div>"
      ],
      "text/plain": [
       "        absorbance-1  absorbance-2\n",
       "sample                            \n",
       "1              0.065         0.063\n",
       "2              1.947         1.901\n",
       "3              0.116         0.121\n",
       "4              1.325         1.327\n",
       "5              0.094         0.084"
      ]
     },
     "execution_count": 4,
     "metadata": {},
     "output_type": "execute_result"
    }
   ],
   "source": [
    "mk_sample = pd.read_csv(\"mk_conc_sample.csv\", index_col=0)\n",
    "mk_sample.head()"
   ]
  },
  {
   "cell_type": "code",
   "execution_count": null,
   "metadata": {},
   "outputs": [],
   "source": []
  },
  {
   "cell_type": "markdown",
   "metadata": {},
   "source": [
    "### 準備1. 入力値xを準備\n",
    "x: 吸光度(平均値)\n",
    "\n",
    "※ linear_regressionは重回帰にも対応しているため、入力値は2次元配列である必要がある。<br>\n",
    "pandas.DataFrame形式で選択して、.valuesでデータのみを取り出す。"
   ]
  },
  {
   "cell_type": "code",
   "execution_count": 5,
   "metadata": {},
   "outputs": [
    {
     "data": {
      "text/plain": [
       "array([[0.004 ],\n",
       "       [0.038 ],\n",
       "       [0.0695],\n",
       "       [0.1385],\n",
       "       [0.2835],\n",
       "       [0.549 ]])"
      ]
     },
     "execution_count": 5,
     "metadata": {},
     "output_type": "execute_result"
    }
   ],
   "source": [
    "x = mk_standard[[\"absorbance-mean\"]].values\n",
    "x"
   ]
  },
  {
   "cell_type": "markdown",
   "metadata": {},
   "source": [
    "### 準備2. 入力値yを準備\n",
    "y: 濃度\n",
    "\n",
    "※ yは1次元配列でOK。pandas.Series形式で取得して、.valuesでデータのみを取る。"
   ]
  },
  {
   "cell_type": "code",
   "execution_count": 6,
   "metadata": {},
   "outputs": [
    {
     "data": {
      "text/plain": [
       "array([0.    , 0.3125, 0.625 , 1.25  , 2.5   , 5.    ])"
      ]
     },
     "execution_count": 6,
     "metadata": {},
     "output_type": "execute_result"
    }
   ],
   "source": [
    "y = mk_standard[\"MK(ng/mL)\"].values\n",
    "y"
   ]
  },
  {
   "cell_type": "code",
   "execution_count": 7,
   "metadata": {},
   "outputs": [],
   "source": [
    "# scikit-learnライブラリから線形回帰モデルをインポート\n",
    "from sklearn import linear_model\n",
    "\n",
    "# 線形回帰モデルを作成\n",
    "clf = linear_model.LinearRegression()\n",
    "\n",
    "# 式に標準物質のデータを当てはめる。-> 結果をresに代入.\n",
    "res = clf.fit(x, y)"
   ]
  },
  {
   "cell_type": "code",
   "execution_count": 8,
   "metadata": {},
   "outputs": [
    {
     "name": "stdout",
     "output_type": "stream",
     "text": [
      "回帰係数:  [9.1269136]\n",
      "切片:  -0.03206399595570608\n"
     ]
    }
   ],
   "source": [
    "# 回帰係数\n",
    "a = res.coef_\n",
    "# 切片\n",
    "b = res.intercept_\n",
    "\n",
    "print(\"回帰係数: \", a)\n",
    "print(\"切片: \", b)"
   ]
  },
  {
   "cell_type": "markdown",
   "metadata": {},
   "source": [
    "`y = ax + b`に代入すると、<br>\n",
    "`y = 9.1269136x - 0.03206399595570608`\n",
    "\n",
    "<br><br>\n",
    "散布図 + 直線グラフで可視化してみる。<br>\n",
    "\n",
    "直線グラフの場合、`plt.plot(x, y)`で描画できますが、<br>\n",
    "`x`と`y`はそれぞれ、配列をいれておく必要があります。<br><br>\n",
    "\n",
    "任意の数列`plot_x`を作って、上の式の`x`に代入し、`plot_y`の値を算出しておきます。"
   ]
  },
  {
   "cell_type": "code",
   "execution_count": 9,
   "metadata": {},
   "outputs": [
    {
     "name": "stdout",
     "output_type": "stream",
     "text": [
      "[0.0, 0.1, 0.2, 0.3, 0.4, 0.5, 0.6]\n",
      "[-0.032064    0.88062736  1.79331872  2.70601009  3.61870145  4.53139281\n",
      "  5.44408417]\n"
     ]
    }
   ],
   "source": [
    "plot_x = [0.0, 0.1, 0.2, 0.3, 0.4, 0.5, 0.6]\n",
    "plot_y = a * plot_x + b\n",
    "\n",
    "print(plot_x)\n",
    "print(plot_y)"
   ]
  },
  {
   "cell_type": "code",
   "execution_count": 10,
   "metadata": {},
   "outputs": [
    {
     "data": {
      "image/png": "[encoded data removed]",
      "text/plain": [
       "<Figure size 640x480 with 1 Axes>"
      ]
     },
     "metadata": {},
     "output_type": "display_data"
    }
   ],
   "source": [
    "sns.scatterplot(data=mk_standard, x=\"absorbance-mean\", y=\"MK(ng/mL)\")\n",
    "plt.plot(plot_x, plot_y, color=\"red\")\n",
    "\n",
    "plt.show()"
   ]
  },
  {
   "cell_type": "markdown",
   "metadata": {},
   "source": [
    "### 検量線ができました。\n",
    "では、濃度が未観測なサンプル、`mk_sample`の濃度を、それぞれの`absorbance`から求めてみましょう\n",
    "。"
   ]
  },
  {
   "cell_type": "code",
   "execution_count": 11,
   "metadata": {},
   "outputs": [
    {
     "data": {
      "text/plain": [
       "array([0.064 , 1.924 , 0.1185, 1.326 , 0.089 , 2.381 , 0.081 , 2.413 ,\n",
       "       0.0815, 2.4285, 0.0745, 1.797 , 0.076 , 2.1675, 0.0805, 2.3065,\n",
       "       0.43  , 2.2415, 0.121 , 1.29  , 0.1105, 2.133 , 0.052 , 2.0175,\n",
       "       0.0565, 2.0295, 0.0765, 2.194 , 0.0825, 2.288 , 0.054 , 2.302 ,\n",
       "       0.053 , 2.0865, 0.0435, 2.057 , 0.0545, 2.343 , 0.055 , 0.915 ,\n",
       "       0.436 , 0.003 ])"
      ]
     },
     "execution_count": 11,
     "metadata": {},
     "output_type": "execute_result"
    }
   ],
   "source": [
    "x_sample = mk_sample[[\"absorbance-1\", \"absorbance-2\"]].mean(axis=1).values\n",
    "x_sample"
   ]
  },
  {
   "cell_type": "code",
   "execution_count": 12,
   "metadata": {},
   "outputs": [
    {
     "data": {
      "text/plain": [
       "array([ 5.52058475e-01,  1.75281178e+01,  1.04947527e+00,  1.20702234e+01,\n",
       "        7.80231315e-01,  2.16991173e+01,  7.07216006e-01,  2.19911785e+01,\n",
       "        7.11779463e-01,  2.21326457e+01,  6.47891068e-01,  1.63689997e+01,\n",
       "        6.61581438e-01,  1.97505212e+01,  7.02652549e-01,  2.10191622e+01,\n",
       "        3.89250885e+00,  2.04259128e+01,  1.07229255e+00,  1.17416546e+01,\n",
       "        9.76459957e-01,  1.94356427e+01,  4.42535511e-01,  1.83814842e+01,\n",
       "        4.83606623e-01,  1.84910072e+01,  6.66144895e-01,  1.99923845e+01,\n",
       "        7.20906376e-01,  2.08503143e+01,  4.60789339e-01,  2.09780911e+01,\n",
       "        4.51662425e-01,  1.90112412e+01,  3.64956746e-01,  1.87419973e+01,\n",
       "        4.65352795e-01,  2.13522946e+01,  4.69916252e-01,  8.31906195e+00,\n",
       "        3.94727034e+00, -4.68325515e-03])"
      ]
     },
     "execution_count": 12,
     "metadata": {},
     "output_type": "execute_result"
    }
   ],
   "source": [
    "y_sample_predict = clf.predict(x_sample.reshape(-1, 1))\n",
    "y_sample_predict"
   ]
  },
  {
   "cell_type": "code",
   "execution_count": 13,
   "metadata": {},
   "outputs": [
    {
     "data": {
      "image/png": "[encoded data removed]",
      "text/plain": [
       "<Figure size 640x480 with 1 Axes>"
      ]
     },
     "metadata": {},
     "output_type": "display_data"
    }
   ],
   "source": [
    "plt.plot(x_sample, y_sample_predict, \"o\")\n",
    "\n",
    "plt.xlabel(\"absorbance\")\n",
    "plt.ylabel(\"MK(ng/mL)\")\n",
    "plt.show()"
   ]
  },
  {
   "cell_type": "code",
   "execution_count": null,
   "metadata": {},
   "outputs": [],
   "source": []
  },
  {
   "cell_type": "code",
   "execution_count": null,
   "metadata": {},
   "outputs": [],
   "source": []
  },
  {
   "cell_type": "markdown",
   "metadata": {},
   "source": [
    "# 演習\n",
    "`タンパク質X`の濃度を測定するために、検量線用のデータとサンプルの吸光度を取得しました。<br>\n",
    "(データは以下に定義しています。コピペして使用して下さい。)<br>\n",
    "<br>\n",
    "検量線用データから、$Y_{濃度} = aX_{吸光度} + b$ の式を作成し、<br>\n",
    "サンプルの濃度を測定してください。<br>\n",
    "余裕があれば、plotも描いてみてください。"
   ]
  },
  {
   "cell_type": "code",
   "execution_count": 18,
   "metadata": {},
   "outputs": [],
   "source": [
    "# 新しいデータセットを作成。\n",
    "new_standard = pd.DataFrame([0.001, 0.096, 0.181, 0.296, 0.371], columns=[\"absorbance\"])\n",
    "new_standard[\"Conc\"] = [0, 0.25, 0.50, 0.75, 1.00]\n",
    "\n",
    "_X_sample = [\n",
    "    0.052, 0.115, 0.311, 0.110, 0.32,\n",
    "    0.321, 0.039, 0.159, 0.147, 0.252,\n",
    "    0.123, 0.301, 0.018, 0.173, 0.276\n",
    "]\n",
    "new_sample = pd.DataFrame(_X_sample, columns=[\"absorbance\"])"
   ]
  },
  {
   "cell_type": "code",
   "execution_count": 19,
   "metadata": {},
   "outputs": [
    {
     "name": "stdout",
     "output_type": "stream",
     "text": [
      "検量線用データ\n"
     ]
    },
    {
     "data": {
      "text/html": [
       "<div>\n",
       "<style scoped>\n",
       "    .dataframe tbody tr th:only-of-type {\n",
       "        vertical-align: middle;\n",
       "    }\n",
       "\n",
       "    .dataframe tbody tr th {\n",
       "        vertical-align: top;\n",
       "    }\n",
       "\n",
       "    .dataframe thead th {\n",
       "        text-align: right;\n",
       "    }\n",
       "</style>\n",
       "<table border=\"1\" class=\"dataframe\">\n",
       "  <thead>\n",
       "    <tr style=\"text-align: right;\">\n",
       "      <th></th>\n",
       "      <th>absorbance</th>\n",
       "      <th>Conc</th>\n",
       "    </tr>\n",
       "  </thead>\n",
       "  <tbody>\n",
       "    <tr>\n",
       "      <th>0</th>\n",
       "      <td>0.001</td>\n",
       "      <td>0.00</td>\n",
       "    </tr>\n",
       "    <tr>\n",
       "      <th>1</th>\n",
       "      <td>0.096</td>\n",
       "      <td>0.25</td>\n",
       "    </tr>\n",
       "    <tr>\n",
       "      <th>2</th>\n",
       "      <td>0.181</td>\n",
       "      <td>0.50</td>\n",
       "    </tr>\n",
       "    <tr>\n",
       "      <th>3</th>\n",
       "      <td>0.296</td>\n",
       "      <td>0.75</td>\n",
       "    </tr>\n",
       "    <tr>\n",
       "      <th>4</th>\n",
       "      <td>0.371</td>\n",
       "      <td>1.00</td>\n",
       "    </tr>\n",
       "  </tbody>\n",
       "</table>\n",
       "</div>"
      ],
      "text/plain": [
       "   absorbance  Conc\n",
       "0       0.001  0.00\n",
       "1       0.096  0.25\n",
       "2       0.181  0.50\n",
       "3       0.296  0.75\n",
       "4       0.371  1.00"
      ]
     },
     "metadata": {},
     "output_type": "display_data"
    }
   ],
   "source": [
    "print(\"検量線用データ\")\n",
    "display(new_standard.head())"
   ]
  },
  {
   "cell_type": "code",
   "execution_count": 20,
   "metadata": {},
   "outputs": [
    {
     "name": "stdout",
     "output_type": "stream",
     "text": [
      "サンプルのデータ。濃度が未知\n"
     ]
    },
    {
     "data": {
      "text/html": [
       "<div>\n",
       "<style scoped>\n",
       "    .dataframe tbody tr th:only-of-type {\n",
       "        vertical-align: middle;\n",
       "    }\n",
       "\n",
       "    .dataframe tbody tr th {\n",
       "        vertical-align: top;\n",
       "    }\n",
       "\n",
       "    .dataframe thead th {\n",
       "        text-align: right;\n",
       "    }\n",
       "</style>\n",
       "<table border=\"1\" class=\"dataframe\">\n",
       "  <thead>\n",
       "    <tr style=\"text-align: right;\">\n",
       "      <th></th>\n",
       "      <th>absorbance</th>\n",
       "    </tr>\n",
       "  </thead>\n",
       "  <tbody>\n",
       "    <tr>\n",
       "      <th>0</th>\n",
       "      <td>0.052</td>\n",
       "    </tr>\n",
       "    <tr>\n",
       "      <th>1</th>\n",
       "      <td>0.115</td>\n",
       "    </tr>\n",
       "    <tr>\n",
       "      <th>2</th>\n",
       "      <td>0.311</td>\n",
       "    </tr>\n",
       "    <tr>\n",
       "      <th>3</th>\n",
       "      <td>0.110</td>\n",
       "    </tr>\n",
       "    <tr>\n",
       "      <th>4</th>\n",
       "      <td>0.320</td>\n",
       "    </tr>\n",
       "  </tbody>\n",
       "</table>\n",
       "</div>"
      ],
      "text/plain": [
       "   absorbance\n",
       "0       0.052\n",
       "1       0.115\n",
       "2       0.311\n",
       "3       0.110\n",
       "4       0.320"
      ]
     },
     "metadata": {},
     "output_type": "display_data"
    }
   ],
   "source": [
    "print(\"サンプルのデータ。濃度が未知\")\n",
    "display(new_sample.head())"
   ]
  },
  {
   "cell_type": "code",
   "execution_count": null,
   "metadata": {},
   "outputs": [],
   "source": []
  }
 ],
 "metadata": {
  "kernelspec": {
   "display_name": "workspace",
   "language": "python",
   "name": "python3"
  },
  "language_info": {
   "codemirror_mode": {
    "name": "ipython",
    "version": 3
   },
   "file_extension": ".py",
   "mimetype": "text/x-python",
   "name": "python",
   "nbconvert_exporter": "python",
   "pygments_lexer": "ipython3",
   "version": "3.10.13"
  }
 },
 "nbformat": 4,
 "nbformat_minor": 2
}
